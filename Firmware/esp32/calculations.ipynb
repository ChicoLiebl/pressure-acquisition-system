{
 "cells": [
  {
   "cell_type": "markdown",
   "metadata": {},
   "source": [
    "# Calculations\n",
    "\n",
    "## Read buffer timer"
   ]
  },
  {
   "cell_type": "markdown",
   "metadata": {},
   "source": [
    "#"
   ]
  },
  {
   "cell_type": "code",
   "execution_count": 7,
   "metadata": {},
   "outputs": [
    {
     "name": "stdout",
     "output_type": "stream",
     "text": [
      "time to fill = 40.96 ms\n"
     ]
    }
   ],
   "source": [
    "spi_read_period_us = 10\n",
    "buffer_len = 4096\n",
    "\n",
    "time_to_fill = spi_read_period_us * buffer_len\n",
    "\n",
    "print(f'time to fill = {time_to_fill / 1000} ms')"
   ]
  },
  {
   "cell_type": "code",
   "execution_count": 10,
   "metadata": {},
   "outputs": [
    {
     "name": "stdout",
     "output_type": "stream",
     "text": [
      "counter period = 100.00 ns\n",
      "Overflow value = 10000\n"
     ]
    }
   ],
   "source": [
    "from prefixed import Float\n",
    "clk = 80e6\n",
    "div = 8\n",
    "T = 1 / (clk / div)\n",
    "print(f'counter period = {Float(T):!.2h}s')\n",
    "overflow_time = 1000e-6\n",
    "overflow_value = overflow_time / T\n",
    "print(f'Overflow value = {int(overflow_value)}')\n"
   ]
  }
 ],
 "metadata": {
  "interpreter": {
   "hash": "767d51c1340bd893661ea55ea3124f6de3c7a262a8b4abca0554b478b1e2ff90"
  },
  "kernelspec": {
   "display_name": "Python 3.10.2 64-bit",
   "language": "python",
   "name": "python3"
  },
  "language_info": {
   "codemirror_mode": {
    "name": "ipython",
    "version": 3
   },
   "file_extension": ".py",
   "mimetype": "text/x-python",
   "name": "python",
   "nbconvert_exporter": "python",
   "pygments_lexer": "ipython3",
   "version": "3.10.2"
  },
  "orig_nbformat": 4
 },
 "nbformat": 4,
 "nbformat_minor": 2
}
